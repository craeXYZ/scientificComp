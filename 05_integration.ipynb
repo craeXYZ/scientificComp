{
  "nbformat": 4,
  "nbformat_minor": 0,
  "metadata": {
    "colab": {
      "provenance": [],
      "authorship_tag": "ABX9TyMZeeVtpgiHNIe71B0XexPy",
      "include_colab_link": true
    },
    "kernelspec": {
      "name": "python3",
      "display_name": "Python 3"
    },
    "language_info": {
      "name": "python"
    }
  },
  "cells": [
    {
      "cell_type": "markdown",
      "metadata": {
        "id": "view-in-github",
        "colab_type": "text"
      },
      "source": [
        "<a href=\"https://colab.research.google.com/github/craeXYZ/scientificComp/blob/main/05_integration.ipynb\" target=\"_parent\"><img src=\"https://colab.research.google.com/assets/colab-badge.svg\" alt=\"Open In Colab\"/></a>"
      ]
    },
    {
      "cell_type": "code",
      "execution_count": null,
      "metadata": {
        "colab": {
          "base_uri": "https://localhost:8080/"
        },
        "id": "E1MfTdTE-3KP",
        "outputId": "901b231c-f5f9-40af-df9a-f2cd163ad7e7"
      },
      "outputs": [
        {
          "output_type": "stream",
          "name": "stdout",
          "text": [
            "1.9835235375094546\n",
            "0.01647646249054535\n",
            "1.9835235375094546\n",
            "0.01647646249054535\n",
            "2.0082484079079745\n",
            "-0.008248407907974542\n"
          ]
        }
      ],
      "source": [
        "import numpy as np\n",
        "\n",
        "a = 0\n",
        "b = np.pi\n",
        "n = 11\n",
        "h = (b - a) / (n-1)\n",
        "x = np.linspace (a, b, n)\n",
        "f = np.sin(x)\n",
        "\n",
        "I_riemannL = h * sum(f[:n-1])\n",
        "err_riemannL = 2 - I_riemannL\n",
        "\n",
        "I_riemannR = h * sum(f[1::])\n",
        "err_riemannR = 2 - I_riemannR\n",
        "\n",
        "I_mid = h * sum(np.sin((x[:n-1] \\\n",
        "        + x[1:])/2))\n",
        "err_mid = 2 - I_mid\n",
        "\n",
        "print(I_riemannL)\n",
        "print(err_riemannL)\n",
        "\n",
        "print(I_riemannR)\n",
        "print(err_riemannR)\n",
        "\n",
        "print(I_mid)\n",
        "print(err_mid)"
      ]
    },
    {
      "cell_type": "code",
      "source": [
        "import numpy as np\n",
        "a = 0\n",
        "b = np.pi\n",
        "n = 11\n",
        "h = (b - a) / (n - 1)\n",
        "x = np.linspace (a, b, n)\n",
        "f = np.sin(x)\n",
        "\n",
        "I_trap = (h/2)*(f[0] + 2 * sum (f[1:n-1]) + f[n-1])\n",
        "err_trap = 2 - I_trap\n",
        "\n",
        "print(I_trap)\n",
        "print(err_trap)"
      ],
      "metadata": {
        "colab": {
          "base_uri": "https://localhost:8080/"
        },
        "id": "-zZqJ8esCdJP",
        "outputId": "52206962-b109-4a9d-86c3-b161ccf8f6fd"
      },
      "execution_count": null,
      "outputs": [
        {
          "output_type": "stream",
          "name": "stdout",
          "text": [
            "1.9835235375094546\n",
            "0.01647646249054535\n"
          ]
        }
      ]
    },
    {
      "cell_type": "code",
      "source": [
        "import numpy as np\n",
        "from scipy.integrate import trapz\n",
        "\n",
        "a = 0\n",
        "b = np.pi\n",
        "n = 11\n",
        "h = (b - a) / (n - 1)\n",
        "X = np.linspace (a, b, n)\n",
        "f = np.sin(x)\n",
        "\n",
        "I_trapz = trapz(f,x)\n",
        "I_trap = (h/2)*(f[0] + 2 * sum (f[1:n-1]) + f[n-1])\n",
        "\n",
        "print (I_trapz)\n",
        "print (I_trap)"
      ],
      "metadata": {
        "colab": {
          "base_uri": "https://localhost:8080/"
        },
        "id": "U6pGp0lVDJmy",
        "outputId": "6b5c00ce-309c-41dd-d618-e3b911253574"
      },
      "execution_count": null,
      "outputs": [
        {
          "output_type": "stream",
          "name": "stdout",
          "text": [
            "1.9835235375094544\n",
            "1.9835235375094546\n"
          ]
        }
      ]
    },
    {
      "cell_type": "code",
      "source": [
        "from scipy.integrate import quad\n",
        "\n",
        "I_quad, est_err_quad = quad(np.sin, 0, np.pi)\n",
        "print(I_quad)\n",
        "err_quad = 2 - I_quad\n",
        "print(est_err_quad, err_quad)"
      ],
      "metadata": {
        "colab": {
          "base_uri": "https://localhost:8080/"
        },
        "id": "yEBnvuI0E3k6",
        "outputId": "883e555f-ad71-4f3f-f8c8-0cbb7c6a78ab"
      },
      "execution_count": null,
      "outputs": [
        {
          "output_type": "stream",
          "name": "stdout",
          "text": [
            "2.0\n",
            "2.220446049250313e-14 0.0\n"
          ]
        }
      ]
    },
    {
      "cell_type": "code",
      "source": [
        "import numpy as np\n",
        "\n",
        "x_values = np.array([0, 0.1, 0.2, 0.3, 0.4])\n",
        "f_values = np.array([0, 0.0819, 0.1341, 0.1646, 0.1797])\n",
        "\n",
        "h = 0.2\n",
        "\n",
        "f_prime_0_2 = (f_values[3] - f_values[1]) / (2 * h)\n",
        "\n",
        "f_prime_0 = (f_values[1] - f_values[0]) / h\n",
        "\n",
        "print(\"f'(0.2):\", f_prime_0_2)\n",
        "print(\"f'(0):\", f_prime_0)"
      ],
      "metadata": {
        "colab": {
          "base_uri": "https://localhost:8080/"
        },
        "id": "llXLcXQxHVZf",
        "outputId": "56f96c60-ea07-4af4-edf3-94cc859e9965"
      },
      "execution_count": 11,
      "outputs": [
        {
          "output_type": "stream",
          "name": "stdout",
          "text": [
            "f'(0.2): 0.20675\n",
            "f'(0): 0.4095\n"
          ]
        }
      ]
    },
    {
      "cell_type": "code",
      "source": [
        "import numpy as np\n",
        "\n",
        "x_values = np.array([0, 0.1, 0.2, 0.3, 0.4])\n",
        "f_values = np.array([0, 0.0819, 0.1341, 0.1646, 0.1797])\n",
        "\n",
        "f_prime_0 = (-3*f_values[0] + 4*f_values[1] - f_values[2]) / (2 * 0.1)\n",
        "\n",
        "f_prime_0_2 = (-3*f_values[1] + 4*f_values[2] - f_values[3]) / (2 * 0.1)\n",
        "\n",
        "print(\"f'(0) =\", f_prime_0)\n",
        "print(\"f'(0.2) =\", f_prime_0_2)"
      ],
      "metadata": {
        "colab": {
          "base_uri": "https://localhost:8080/"
        },
        "id": "VN2Pj0nJHvin",
        "outputId": "0b6d7b2e-65fb-4561-8ea0-d0a444dcaaa9"
      },
      "execution_count": 12,
      "outputs": [
        {
          "output_type": "stream",
          "name": "stdout",
          "text": [
            "f'(0) = 0.9675\n",
            "f'(0.2) = 0.6304999999999997\n"
          ]
        }
      ]
    }
  ]
}