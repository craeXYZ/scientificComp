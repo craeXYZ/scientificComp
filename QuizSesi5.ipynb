{
  "nbformat": 4,
  "nbformat_minor": 0,
  "metadata": {
    "colab": {
      "provenance": [],
      "authorship_tag": "ABX9TyPM57+kmY3TqVn7ismUZ+8N",
      "include_colab_link": true
    },
    "kernelspec": {
      "name": "python3",
      "display_name": "Python 3"
    },
    "language_info": {
      "name": "python"
    }
  },
  "cells": [
    {
      "cell_type": "markdown",
      "metadata": {
        "id": "view-in-github",
        "colab_type": "text"
      },
      "source": [
        "<a href=\"https://colab.research.google.com/github/craeXYZ/scientificComp/blob/main/QuizSesi5.ipynb\" target=\"_parent\"><img src=\"https://colab.research.google.com/assets/colab-badge.svg\" alt=\"Open In Colab\"/></a>"
      ]
    },
    {
      "cell_type": "code",
      "execution_count": 3,
      "metadata": {
        "colab": {
          "base_uri": "https://localhost:8080/"
        },
        "id": "kLKDrqVrLTmW",
        "outputId": "d017857c-abb4-4bc7-eb9b-7d39f1719b1b"
      },
      "outputs": [
        {
          "output_type": "stream",
          "name": "stdout",
          "text": [
            "-1.9663166787658926\n",
            "3.9663166787658923\n"
          ]
        }
      ],
      "source": [
        "import numpy as np\n",
        "a = np.pi\n",
        "b = 0\n",
        "n = 8\n",
        "h = (b - a) / (n - 1)\n",
        "x = np.linspace (a, b, n)\n",
        "f = np.sin(x)\n",
        "\n",
        "I_trap = (h/2)*(f[0] + 2 * sum (f[1:n-1]) + f[n-1])\n",
        "err_trap = 2 - I_trap\n",
        "\n",
        "print(I_trap)\n",
        "print(err_trap)"
      ]
    },
    {
      "cell_type": "code",
      "source": [
        "import numpy as np\n",
        "a = np.pi\n",
        "b = 0\n",
        "n = 16\n",
        "h = (b - a) / (n - 1)\n",
        "x = np.linspace (a, b, n)\n",
        "f = np.sin(x)\n",
        "\n",
        "I_trap = (h/2)*(f[0] + 2 * sum (f[1:n-1]) + f[n-1])\n",
        "err_trap = 2 - I_trap\n",
        "\n",
        "print(I_trap)\n",
        "print(err_trap)"
      ],
      "metadata": {
        "colab": {
          "base_uri": "https://localhost:8080/"
        },
        "id": "dlAYHHVDLjq5",
        "outputId": "eb0244e7-c62a-415c-dffa-a1f0b19041af"
      },
      "execution_count": 4,
      "outputs": [
        {
          "output_type": "stream",
          "name": "stdout",
          "text": [
            "-1.9926838315307693\n",
            "3.992683831530769\n"
          ]
        }
      ]
    }
  ]
}