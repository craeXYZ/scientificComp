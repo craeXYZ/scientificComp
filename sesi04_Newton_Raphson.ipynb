{
  "nbformat": 4,
  "nbformat_minor": 0,
  "metadata": {
    "colab": {
      "provenance": [],
      "authorship_tag": "ABX9TyPH34a9cpH20ftadEvRJFY2",
      "include_colab_link": true
    },
    "kernelspec": {
      "name": "python3",
      "display_name": "Python 3"
    },
    "language_info": {
      "name": "python"
    }
  },
  "cells": [
    {
      "cell_type": "markdown",
      "metadata": {
        "id": "view-in-github",
        "colab_type": "text"
      },
      "source": [
        "<a href=\"https://colab.research.google.com/github/craeXYZ/scientificComp/blob/main/sesi04_Newton_Raphson.ipynb\" target=\"_parent\"><img src=\"https://colab.research.google.com/assets/colab-badge.svg\" alt=\"Open In Colab\"/></a>"
      ]
    },
    {
      "cell_type": "code",
      "execution_count": 4,
      "metadata": {
        "colab": {
          "base_uri": "https://localhost:8080/"
        },
        "id": "Vuo1mBsc2xWV",
        "outputId": "47fa5a88-7aff-4746-b920-7102a991f0af"
      },
      "outputs": [
        {
          "output_type": "stream",
          "name": "stdout",
          "text": [
            "newton_raphson = 1.4142857142857144\n",
            "sqrt(2) = 1.4142135623730951\n"
          ]
        }
      ],
      "source": [
        "import numpy as np\n",
        "\n",
        "f = lambda x: x**2 - 2\n",
        "f_prime = lambda x: 2*x\n",
        "newton_raphson = 1.4 - (f(1.4))/(f_prime (1.4))\n",
        "\n",
        "print(\"newton_raphson =\", newton_raphson)\n",
        "print(\"sqrt(2) =\", np.sqrt(2))"
      ]
    },
    {
      "cell_type": "code",
      "source": [
        "def my_newton (f, df, x0, tol):\n",
        "  if abs (f(x0)) < tol:\n",
        "    return x0\n",
        "  else:\n",
        "    return my_newton(f, df, x0 - f(x0)/df (x0), tol)"
      ],
      "metadata": {
        "id": "vpHiU4ud4Seu"
      },
      "execution_count": 5,
      "outputs": []
    },
    {
      "cell_type": "code",
      "source": [
        "estimate = my_newton (f, f_prime, 1.5, 1e-6)\n",
        "print(\"estimate =\", estimate)\n",
        "print(\"sqrt(2) =\", np.sqrt(2))"
      ],
      "metadata": {
        "colab": {
          "base_uri": "https://localhost:8080/"
        },
        "id": "mOiBjtJg4i21",
        "outputId": "22d3133a-33ab-413c-e74c-a1979939a50f"
      },
      "execution_count": 6,
      "outputs": [
        {
          "output_type": "stream",
          "name": "stdout",
          "text": [
            "estimate = 1.4142135623746899\n",
            "sqrt(2) = 1.4142135623730951\n"
          ]
        }
      ]
    },
    {
      "cell_type": "markdown",
      "source": [
        "Quiz 1"
      ],
      "metadata": {
        "id": "5oW89zTNuQ-G"
      }
    },
    {
      "cell_type": "code",
      "source": [
        "f = lambda x: x**3 - 3*x**2 + 2*x\n",
        "\n",
        "f_prime = lambda x: 3*x**2 - 6*x + 2\n",
        "\n",
        "estimate1 = my_newton (f, f_prime, 1.5, 0.001)\n",
        "print(\"estimate =\", estimate1)"
      ],
      "metadata": {
        "id": "MQKwhI358r2-",
        "colab": {
          "base_uri": "https://localhost:8080/"
        },
        "outputId": "c90c8e48-be96-48ca-a8d6-ec082c269cc9"
      },
      "execution_count": 7,
      "outputs": [
        {
          "output_type": "stream",
          "name": "stdout",
          "text": [
            "estimate = 0.0\n"
          ]
        }
      ]
    },
    {
      "cell_type": "markdown",
      "source": [
        "Quiz 2"
      ],
      "metadata": {
        "id": "_iglAyrouRRg"
      }
    },
    {
      "cell_type": "code",
      "source": [
        "import math\n",
        "\n",
        "def my_newton(f, df, x0, tol, max_iter=1000):\n",
        "    iter_count = 0\n",
        "    while True:\n",
        "        x1 = x0 - f(x0) / df(x0)\n",
        "        if abs(x1 - x0) < tol or iter_count >= max_iter:\n",
        "            return x1\n",
        "        x0 = x1\n",
        "        iter_count += 1"
      ],
      "metadata": {
        "id": "L7PEOWaSuyYT"
      },
      "execution_count": 11,
      "outputs": []
    },
    {
      "cell_type": "code",
      "source": [
        "f = lambda x: math.exp(x) - 2*x\n",
        "\n",
        "f_prime = lambda x: math.exp(x) - 2\n",
        "\n",
        "estimate2 = my_newton (f, f_prime, 1, 0.001)\n",
        "print(\"estimate =\", estimate2)"
      ],
      "metadata": {
        "id": "Y1Kpro_2UCMz",
        "colab": {
          "base_uri": "https://localhost:8080/"
        },
        "outputId": "5c4233d8-9555-42d7-885b-6a41ac86baf9"
      },
      "execution_count": 12,
      "outputs": [
        {
          "output_type": "stream",
          "name": "stdout",
          "text": [
            "estimate = 0.0\n"
          ]
        }
      ]
    }
  ]
}